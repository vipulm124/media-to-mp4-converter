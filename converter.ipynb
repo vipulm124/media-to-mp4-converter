{
 "cells": [
  {
   "cell_type": "markdown",
   "id": "35466a58",
   "metadata": {},
   "source": [
    "### Install ffmpeg in macos using below command. \n",
    "\n",
    "```brew install ffmpeg```\n",
    "\n",
    "#### Prerequisite - you should already have brew installed."
   ]
  },
  {
   "cell_type": "code",
   "execution_count": null,
   "id": "ea68d46b",
   "metadata": {},
   "outputs": [],
   "source": [
    "base_dict_path = \"/Users/vipulmalhotra/Documents/WebCam_backup_shifting\"\n",
    "error_file = \"error.txt\""
   ]
  },
  {
   "cell_type": "code",
   "execution_count": null,
   "id": "47f6d56d",
   "metadata": {},
   "outputs": [],
   "source": [
    "import os\n",
    "import subprocess"
   ]
  },
  {
   "cell_type": "code",
   "execution_count": null,
   "id": "7a6e73a6",
   "metadata": {},
   "outputs": [],
   "source": [
    "def errored_files(file_path):\n",
    "    with open(error_file, \"a\") as f:\n",
    "        f.write(f\"{file_path}\\n\")"
   ]
  },
  {
   "cell_type": "code",
   "execution_count": null,
   "id": "a0c50315",
   "metadata": {},
   "outputs": [],
   "source": [
    "def convert_to_mp4(file_path, output_path):\n",
    "    print(f\"Converting {file_path} to {output_path}...\")\n",
    "    try:\n",
    "\n",
    "\n",
    "        # Check if the input file exists\n",
    "        if not os.path.exists(file_path):\n",
    "            raise FileNotFoundError(f\"The file {file_path} does not exist.\")\n",
    "\n",
    "        # Construct the ffmpeg command\n",
    "        command = [\n",
    "            \"ffmpeg\",\n",
    "            \"-i\", file_path,\n",
    "            \"-c:v\", \"libx264\",\n",
    "            \"-preset\", \"slow\",\n",
    "            \"-crf\", \"22\",\n",
    "            \"-c:a\", \"aac\",\n",
    "            \"-b:a\", \"192k\",\n",
    "            output_path\n",
    "        ]\n",
    "\n",
    "        # Redirect logs to null to suppress them\n",
    "        with open(os.devnull, 'w') as devnull:\n",
    "            subprocess.run(command, check=True, stdout=devnull, stderr=devnull)\n",
    "    \n",
    "    except Exception as e:\n",
    "        print(f\"Error converting {file_path}: {e}\")\n",
    "        errored_files(file_path)\n",
    "        return\n"
   ]
  },
  {
   "cell_type": "code",
   "execution_count": null,
   "id": "c4786317",
   "metadata": {},
   "outputs": [],
   "source": [
    "def convert_files_in_directory(directory_path):\n",
    "\n",
    "    # Check if the directory exists\n",
    "    if not os.path.exists(directory_path):\n",
    "        raise FileNotFoundError(f\"The directory {directory_path} does not exist.\")\n",
    "\n",
    "    # Iterate through all files in the directory\n",
    "    for filename in os.listdir(directory_path):\n",
    "        if os.path.isdir(os.path.join(directory_path, filename)):\n",
    "            convert_files_in_directory(os.path.join(directory_path, filename))\n",
    "        \n",
    "        elif filename.endswith(\".media\"):\n",
    "            input_file = os.path.join(directory_path, filename)\n",
    "            # Create output directory if it doesn't exist\n",
    "            os.makedirs(os.path.join(directory_path, \"output\"), exist_ok=True)\n",
    "            output_file = os.path.join(f\"{directory_path}/output/{filename.replace('.media', '.mp4')}\")\n",
    "            if os.path.exists(output_file):\n",
    "                print(f\"File {output_file} already exists. Skipping conversion.\")\n",
    "                continue\n",
    "            convert_to_mp4(input_file, output_file)\n",
    "            print(f\"Converted {input_file} to {output_file}\")\n",
    "        "
   ]
  },
  {
   "cell_type": "code",
   "execution_count": null,
   "id": "746ec712",
   "metadata": {},
   "outputs": [],
   "source": [
    "convert_files_in_directory(base_dict_path)"
   ]
  }
 ],
 "metadata": {
  "kernelspec": {
   "display_name": "Python 3",
   "language": "python",
   "name": "python3"
  },
  "language_info": {
   "codemirror_mode": {
    "name": "ipython",
    "version": 3
   },
   "file_extension": ".py",
   "mimetype": "text/x-python",
   "name": "python",
   "nbconvert_exporter": "python",
   "pygments_lexer": "ipython3",
   "version": "3.11.4"
  }
 },
 "nbformat": 4,
 "nbformat_minor": 5
}
